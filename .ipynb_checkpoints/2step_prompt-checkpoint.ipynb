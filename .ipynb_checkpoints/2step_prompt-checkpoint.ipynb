{
 "cells": [
  {
   "cell_type": "markdown",
   "id": "1016e17e-39f0-4946-b7b6-8226209bd07c",
   "metadata": {},
   "source": [
    "### Quick scale test"
   ]
  },
  {
   "cell_type": "code",
   "execution_count": 1,
   "id": "efb2a88c-81fc-4365-8371-049fbb5f97be",
   "metadata": {
    "tags": []
   },
   "outputs": [
    {
     "name": "stdout",
     "output_type": "stream",
     "text": [
      "LLMCompiler.ipynb\t      model_response_times.csv\tyour_output-Copy1.csv\n",
      "Langchain_chain_agents.ipynb  ocr_image.png\t\tyour_output.csv\n",
      "Untitled.ipynb\t\t      output\t\t\tyour_output_reason.csv\n",
      "corrective_rag_mistral.ipynb  plan-and-execute.ipynb\tyour_output_reason2.csv\n",
      "intro_reasoning_engine.ipynb  time-travel.ipynb\n"
     ]
    }
   ],
   "source": [
    "!ls"
   ]
  },
  {
   "cell_type": "code",
   "execution_count": 2,
   "id": "e0909a3a-c559-4fd4-bb0a-900c19439da8",
   "metadata": {},
   "outputs": [],
   "source": [
    "import base64\n",
    "\n",
    "def read_local_image(image_path):\n",
    "    with open(image_path, \"rb\") as image_file:\n",
    "        image_data = image_file.read()\n",
    "        base64_encoded_image = base64.b64encode(image_data).decode('utf-8')\n",
    "        return base64_encoded_image\n",
    "\n",
    "# Get the path to your local image (e.g., \"path/to/your/image.png\")\n",
    "image_path = \"./ocr_image.png\"\n",
    "image = read_local_image(image_path)  \n",
    "\n"
   ]
  },
  {
   "cell_type": "code",
   "execution_count": 9,
   "id": "ea80bad8-4235-4ec6-afae-253f462066f4",
   "metadata": {
    "tags": []
   },
   "outputs": [
    {
     "name": "stdout",
     "output_type": "stream",
     "text": [
      "```json\n",
      "{\n",
      "  \"prompt\": \"You are a document extraction engine. \\n\\nThe user will provide a pdf file or an image. Your task is to convert it into markdown format. \\n\\nIf you see images, describe it.  \\n\\nRespond with markdown. Always start with ===[START]=== and end with ===[END]===. \\n\\nThe image you are about to see is a product listing page with four products. Each product has the following information: \\n\\n- Product Name\\n- Price\\n- Description\\n\\nPlease extract the information for each product in a table format. \\n\\nExample:\\n\\n| Product Name | Price | Description | \\n|---|---|---| \\n| Loctite Ea E-30CL Cr 50ML | S$ 29.00 |  | \\n| Loctite EA E-20HP (50ml) | S$ 25.00 |  | \\n| Loctite Ea 9490 4oz Underwater Repair 2part Epoxy Loctite Authorised | S$ 25.00 |  | \\n| Loctite Ea E 120HP Epoxy Adhesive Cartridge Amber-beige 50ml Loctite | S$ 40.00 |  | \\n\\n\"\n",
      "}\n",
      "```"
     ]
    }
   ],
   "source": [
    "import base64\n",
    "import vertexai\n",
    "from vertexai.generative_models import GenerativeModel, Part, FinishReason\n",
    "import vertexai.preview.generative_models as generative_models\n",
    "\n",
    "def generate():\n",
    "    vertexai.init(project=\"my-project-0004-346516\", location=\"us-central1\")\n",
    "    model = GenerativeModel( \"gemini-1.5-flash-001\", )\n",
    "    \n",
    "    responses = model.generate_content(\n",
    "      [text1, image1],\n",
    "      generation_config=generation_config,\n",
    "      safety_settings=safety_settings,\n",
    "      stream=True,\n",
    "    )\n",
    "    \n",
    "    markdown_result = \"\"\n",
    "    for response in responses:\n",
    "        print(response.text, end=\"\")\n",
    "        markdown_result += response.text\n",
    "    return(markdown_result)\n",
    "\n",
    "\n",
    "text1 = \"\"\"I am creating a prompt for extracting text from image and here is my inital prompt --- please have a look at the image and help me create a better prompt \n",
    "\n",
    "Current prompt : \n",
    "''' You are a document extraction engine. \n",
    "\n",
    "\n",
    "The user will provide a pdf file or an image. Your task is to convert it into markdown format.\n",
    "\n",
    "If you see images, describe it.\n",
    "\n",
    "\n",
    "Respond with markdown. Always start with ===[START]=== and end with ===[END]=== '''\n",
    "\n",
    "output in a simple json format\n",
    "\"\"\"\n",
    "image1 = Part.from_data(\n",
    "    mime_type=\"image/png\",\n",
    "    data=base64.b64decode(image))\n",
    "\n",
    "generation_config = {\n",
    "    \"max_output_tokens\": 5147,\n",
    "    \"top_p\": 0.95,\n",
    "    \"temperature\": 0.7,\n",
    "}\n",
    "\n",
    "safety_settings = {\n",
    "    generative_models.HarmCategory.HARM_CATEGORY_HATE_SPEECH: generative_models.HarmBlockThreshold.BLOCK_NONE,\n",
    "    generative_models.HarmCategory.HARM_CATEGORY_DANGEROUS_CONTENT: generative_models.HarmBlockThreshold.BLOCK_NONE,\n",
    "    generative_models.HarmCategory.HARM_CATEGORY_SEXUALLY_EXPLICIT: generative_models.HarmBlockThreshold.BLOCK_NONE,\n",
    "    generative_models.HarmCategory.HARM_CATEGORY_HARASSMENT: generative_models.HarmBlockThreshold.BLOCK_NONE,\n",
    "}\n",
    "\n",
    "markdown_result_out = generate()\n",
    "\n"
   ]
  },
  {
   "cell_type": "code",
   "execution_count": 10,
   "id": "48070ad1-fbae-452c-b1b8-4668da9c0d7c",
   "metadata": {
    "tags": []
   },
   "outputs": [
    {
     "data": {
      "text/plain": [
       "'```json\\n{\\n  \"prompt\": \"You are a document extraction engine. \\\\n\\\\nThe user will provide a pdf file or an image. Your task is to convert it into markdown format. \\\\n\\\\nIf you see images, describe it.  \\\\n\\\\nRespond with markdown. Always start with ===[START]=== and end with ===[END]===. \\\\n\\\\nThe image you are about to see is a product listing page with four products. Each product has the following information: \\\\n\\\\n- Product Name\\\\n- Price\\\\n- Description\\\\n\\\\nPlease extract the information for each product in a table format. \\\\n\\\\nExample:\\\\n\\\\n| Product Name | Price | Description | \\\\n|---|---|---| \\\\n| Loctite Ea E-30CL Cr 50ML | S$ 29.00 |  | \\\\n| Loctite EA E-20HP (50ml) | S$ 25.00 |  | \\\\n| Loctite Ea 9490 4oz Underwater Repair 2part Epoxy Loctite Authorised | S$ 25.00 |  | \\\\n| Loctite Ea E 120HP Epoxy Adhesive Cartridge Amber-beige 50ml Loctite | S$ 40.00 |  | \\\\n\\\\n\"\\n}\\n```'"
      ]
     },
     "execution_count": 10,
     "metadata": {},
     "output_type": "execute_result"
    }
   ],
   "source": [
    "markdown_result_out"
   ]
  },
  {
   "cell_type": "code",
   "execution_count": 11,
   "id": "ee673012-bb0f-4c06-96ec-880aba3c5eef",
   "metadata": {},
   "outputs": [
    {
     "data": {
      "text/plain": [
       "'```json\\n{\\n  \"prompt\": \"You are a document extraction engine. \\\\n\\\\nThe user will provide a pdf file or an image. Your task is to convert it into markdown format. \\\\n\\\\nIf you see images, describe it.  \\\\n\\\\nRespond with markdown. Always start with ===[START]=== and end with ===[END]===. \\\\n\\\\nThe image you are about to see is a product listing page with four products. Each product has the following information: \\\\n\\\\n- Product Name\\\\n- Price\\\\n- Description\\\\n\\\\nPlease extract the information for each product in a table format. \\\\n\\\\nExample:\\\\n\\\\n| Product Name | Price | Description | \\\\n|---|---|---| \\\\n| Loctite Ea E-30CL Cr 50ML | S$ 29.00 |  | \\\\n| Loctite EA E-20HP (50ml) | S$ 25.00 |  | \\\\n| Loctite Ea 9490 4oz Underwater Repair 2part Epoxy Loctite Authorised | S$ 25.00 |  | \\\\n| Loctite Ea E 120HP Epoxy Adhesive Cartridge Amber-beige 50ml Loctite | S$ 40.00 |  | \\\\n\\\\n\"\\n}\\n```'"
      ]
     },
     "execution_count": 11,
     "metadata": {},
     "output_type": "execute_result"
    }
   ],
   "source": [
    "# markdown_result\n",
    "markdown_result_out"
   ]
  },
  {
   "cell_type": "code",
   "execution_count": 12,
   "id": "8316acb9-afe6-45ea-b2a6-074a170816f3",
   "metadata": {
    "tags": []
   },
   "outputs": [
    {
     "name": "stdout",
     "output_type": "stream",
     "text": [
      "{\n",
      "  \"prompt\": \"You are a document extraction engine. \\n\\nThe user will provide a pdf file or an image. Your task is to convert it into markdown format. \\n\\nIf you see images, describe it.  \\n\\nRespond with markdown. Always start with ===[START]=== and end with ===[END]===. \\n\\nThe image you are about to see is a product listing page with four products. Each product has the following information: \\n\\n- Product Name\\n- Price\\n- Description\\n\\nPlease extract the information for each product in a table format. \\n\\nExample:\\n\\n| Product Name | Price | Description | \\n|---|---|---| \\n| Loctite Ea E-30CL Cr 50ML | S$ 29.00 |  | \\n| Loctite EA E-20HP (50ml) | S$ 25.00 |  | \\n| Loctite Ea 9490 4oz Underwater Repair 2part Epoxy Loctite Authorised | S$ 25.00 |  | \\n| Loctite Ea E 120HP Epoxy Adhesive Cartridge Amber-beige 50ml Loctite | S$ 40.00 |  | \\n\\n\"\n",
      "}\n",
      "\n"
     ]
    }
   ],
   "source": [
    "modified_x = markdown_result_out[8:-3]\n",
    "\n",
    "print(modified_x)"
   ]
  },
  {
   "cell_type": "code",
   "execution_count": 13,
   "id": "e72764c9-82e2-456c-aec4-66d2ba3c5375",
   "metadata": {
    "tags": []
   },
   "outputs": [
    {
     "data": {
      "text/plain": [
       "'You are a document extraction engine. \\n\\nThe user will provide a pdf file or an image. Your task is to convert it into markdown format. \\n\\nIf you see images, describe it.  \\n\\nRespond with markdown. Always start with ===[START]=== and end with ===[END]===. \\n\\nThe image you are about to see is a product listing page with four products. Each product has the following information: \\n\\n- Product Name\\n- Price\\n- Description\\n\\nPlease extract the information for each product in a table format. \\n\\nExample:\\n\\n| Product Name | Price | Description | \\n|---|---|---| \\n| Loctite Ea E-30CL Cr 50ML | S$ 29.00 |  | \\n| Loctite EA E-20HP (50ml) | S$ 25.00 |  | \\n| Loctite Ea 9490 4oz Underwater Repair 2part Epoxy Loctite Authorised | S$ 25.00 |  | \\n| Loctite Ea E 120HP Epoxy Adhesive Cartridge Amber-beige 50ml Loctite | S$ 40.00 |  | \\n\\n'"
      ]
     },
     "execution_count": 13,
     "metadata": {},
     "output_type": "execute_result"
    }
   ],
   "source": [
    "import json\n",
    "\n",
    "data = json.loads(modified_x)\n",
    "prompt_value = data[\"prompt\"]\n",
    "prompt_value"
   ]
  },
  {
   "cell_type": "code",
   "execution_count": 14,
   "id": "ef3ec566-8899-4838-bf37-f919e14e5f3f",
   "metadata": {
    "tags": []
   },
   "outputs": [
    {
     "name": "stdout",
     "output_type": "stream",
     "text": [
      "i 0\n",
      "i 1\n",
      "i 2\n",
      "i 3\n",
      "i 4\n",
      "i 5\n",
      "i 6\n",
      "i 7\n",
      "i 8\n",
      "i 9\n",
      "i 10\n",
      "i 11\n",
      "i 12\n",
      "i 13\n",
      "i 14\n",
      "i 15\n",
      "i 16\n",
      "i 17\n",
      "i 18\n",
      "i 19\n",
      "i 20\n",
      "i 21\n",
      "i 22\n",
      "i 23\n",
      "i 24\n",
      "i 25\n",
      "i 26\n",
      "i 27\n",
      "i 28\n",
      "i 29\n",
      "i 30\n",
      "i 31\n",
      "i 32\n",
      "i 33\n",
      "i 34\n",
      "i 35\n",
      "i 36\n",
      "i 37\n",
      "i 38\n",
      "i 39\n",
      "i 40\n",
      "i 41\n",
      "i 42\n",
      "i 43\n",
      "i 44\n",
      "i 45\n",
      "i 46\n",
      "i 47\n",
      "i 48\n",
      "i 49\n"
     ]
    }
   ],
   "source": [
    "import base64\n",
    "import csv\n",
    "import vertexai\n",
    "from vertexai.generative_models import GenerativeModel, Part, FinishReason\n",
    "import vertexai.preview.generative_models as generative_models\n",
    "\n",
    "def generate_and_save(output_file, num_generations=50):\n",
    "    vertexai.init(project=\"my-project-0004-346516\", location=\"asia-southeast1\")\n",
    "    model = GenerativeModel(\"gemini-1.5-flash-001\")\n",
    "\n",
    "    text1 = \"\"\"You are a document extraction engine.\n",
    "    \n",
    "    The user will provide a pdf file or an image. Your task is to convert it into markdown format.\n",
    "    \n",
    "    Do not leave any text behind.\n",
    "    \n",
    "    \"\"\"\n",
    "\n",
    "    image1 = Part.from_data(\n",
    "        mime_type=\"image/png\",\n",
    "        data=base64.b64decode(image)\n",
    "    )\n",
    "\n",
    "    generation_config = {\n",
    "        \"max_output_tokens\": 5147,\n",
    "        \"top_p\": 0.95,\n",
    "    }\n",
    "\n",
    "    safety_settings = {\n",
    "        generative_models.HarmCategory.HARM_CATEGORY_HATE_SPEECH: generative_models.HarmBlockThreshold.BLOCK_NONE,\n",
    "        generative_models.HarmCategory.HARM_CATEGORY_DANGEROUS_CONTENT: generative_models.HarmBlockThreshold.BLOCK_NONE,\n",
    "        generative_models.HarmCategory.HARM_CATEGORY_SEXUALLY_EXPLICIT: generative_models.HarmBlockThreshold.BLOCK_NONE,\n",
    "        generative_models.HarmCategory.HARM_CATEGORY_HARASSMENT: generative_models.HarmBlockThreshold.BLOCK_NONE,\n",
    "    }\n",
    "\n",
    "    with open(output_file, \"w\", newline=\"\") as csvfile:\n",
    "        writer = csv.writer(csvfile)\n",
    "        writer.writerow([\"Generation Number\", \"Extracted Markdown\"])\n",
    "\n",
    "        for i in range(num_generations):\n",
    "            responses = model.generate_content(\n",
    "                [text1, image1, prompt_value],\n",
    "                generation_config=generation_config,\n",
    "                safety_settings=safety_settings,\n",
    "                stream=True,\n",
    "            )\n",
    "            markdown_result = \"\"\n",
    "            for response in responses:\n",
    "                markdown_result += response.text\n",
    "            writer.writerow([i + 1, markdown_result])\n",
    "            print(\"i\",i)\n",
    "    return(markdown_result)\n",
    "\n",
    "# Replace 'your_output.csv' with your desired file name\n",
    "xx= generate_and_save(\"your_output_reason2.csv\") \n"
   ]
  },
  {
   "cell_type": "code",
   "execution_count": null,
   "id": "bf829897-c33e-4167-8c12-f12855125e4f",
   "metadata": {},
   "outputs": [],
   "source": []
  }
 ],
 "metadata": {
  "environment": {
   "kernel": "conda-root-py",
   "name": "workbench-notebooks.m113",
   "type": "gcloud",
   "uri": "gcr.io/deeplearning-platform-release/workbench-notebooks:m113"
  },
  "kernelspec": {
   "display_name": "Python 3 (ipykernel) (Local)",
   "language": "python",
   "name": "conda-root-py"
  },
  "language_info": {
   "codemirror_mode": {
    "name": "ipython",
    "version": 3
   },
   "file_extension": ".py",
   "mimetype": "text/x-python",
   "name": "python",
   "nbconvert_exporter": "python",
   "pygments_lexer": "ipython3",
   "version": "3.10.13"
  }
 },
 "nbformat": 4,
 "nbformat_minor": 5
}
